{
 "cells": [
  {
   "cell_type": "code",
   "execution_count": 4,
   "id": "5076c825",
   "metadata": {},
   "outputs": [
    {
     "name": "stdout",
     "output_type": "stream",
     "text": [
      "Requirement already satisfied: azure-cognitiveservices-speech==1.28.0 in c:\\users\\gb\\anaconda3\\lib\\site-packages (1.28.0)\n",
      "Note: you may need to restart the kernel to use updated packages.\n",
      "Requirement already satisfied: playsound in c:\\users\\gb\\anaconda3\\lib\\site-packages (1.3.0)\n",
      "Note: you may need to restart the kernel to use updated packages.\n"
     ]
    }
   ],
   "source": [
    "%pip install azure-cognitiveservices-speech==1.28.0\n",
    "%pip install playsound"
   ]
  },
  {
   "cell_type": "code",
   "execution_count": 5,
   "id": "1aaf6403",
   "metadata": {},
   "outputs": [],
   "source": [
    "from dotenv import load_dotenv\n",
    "from datetime import datetime\n",
    "import os\n",
    "\n",
    "# Import namespaces\n",
    "import azure.cognitiveservices.speech as speech_sdk\n",
    "from playsound import playsound"
   ]
  },
  {
   "cell_type": "code",
   "execution_count": 58,
   "id": "74c5626d",
   "metadata": {},
   "outputs": [],
   "source": [
    "def transcribeCommand():\n",
    "    # Configure speech recognition\n",
    "    audioFile = r'C:\\Users\\GB\\Documents\\Jupyter Notebok\\Task\\azure task\\umair_intro.wav'\n",
    "    playsound(audioFile)\n",
    "    \n",
    "    # Create a SpeechConfig object with your subscription key and region\n",
    "    # Get Configuration Settings\n",
    "    load_dotenv()\n",
    "    cog_key = os.getenv('COG_SERVICE_KEY')\n",
    "    cog_region = os.getenv('COG_SERVICE_REGION')\n",
    "    speech_config = speech_sdk.SpeechConfig(subscription=cog_key, region=cog_region)\n",
    "\n",
    "    # Create a speech recognizer\n",
    "    audio_config = speech_sdk.AudioConfig(filename=audioFile)\n",
    "    speech_recognizer = speech_sdk.SpeechRecognizer(speech_config, audio_config)\n",
    "\n",
    "    # Process speech input\n",
    "    speech = speech_recognizer.recognize_once_async().get()\n",
    "    if speech.reason == speech_sdk.ResultReason.RecognizedSpeech:\n",
    "        command = speech.text\n",
    "       \n",
    "    else:\n",
    "        print(speech.reason)\n",
    "        if speech.reason == speech_sdk.ResultReason.Canceled:\n",
    "            cancellation = speech.cancellation_details\n",
    "            print(cancellation.reason)\n",
    "            print(cancellation.error_details)\n",
    "    \n",
    "    # Return the command as a string\n",
    "    return command\n",
    "\n",
    "\n",
    "\n"
   ]
  },
  {
   "cell_type": "code",
   "execution_count": 59,
   "id": "744cd8d5",
   "metadata": {},
   "outputs": [],
   "source": [
    "command = transcribeCommand()"
   ]
  },
  {
   "cell_type": "markdown",
   "id": "f00004d1",
   "metadata": {},
   "source": [
    "# Translation text into urdu"
   ]
  },
  {
   "cell_type": "code",
   "execution_count": 54,
   "id": "b003208f",
   "metadata": {},
   "outputs": [],
   "source": [
    " # import namespaces\n",
    "from azure.ai.translation.text import TextTranslationClient, TranslatorCredential\n",
    "from azure.ai.translation.text.models import InputTextItem"
   ]
  },
  {
   "cell_type": "code",
   "execution_count": 55,
   "id": "8eb7df7d",
   "metadata": {},
   "outputs": [],
   "source": [
    "key = \"67a5bd6e11d44606b9434219efec0a4a\"\n",
    "endpoint = \"https://api.cognitive.microsofttranslator.com/\"\n",
    "region = \"centralindia\"\n",
    "\n",
    "credential = TranslatorCredential(key, region)\n",
    "text_translator = TextTranslationClient(endpoint=endpoint, credential=credential)"
   ]
  },
  {
   "cell_type": "code",
   "execution_count": 56,
   "id": "a2f515ee",
   "metadata": {},
   "outputs": [],
   "source": [
    "source_language = \"en\"\n",
    "target_language = [\"ur\"]\n",
    "input_text_elements = [ InputTextItem(text = command ) ]\n",
    "\n",
    "\n",
    "response = text_translator.translate(content = input_text_elements, to = target_language, from_parameter = source_language)\n",
    "translation = response[0] if response else None\n",
    "\n",
    "if translation:\n",
    "    for translated_text in translation.translations:\n",
    "        my_urdu_text=translated_text.text\n",
    "#         my_urdu_text.append(translated_text.text)\n",
    "#         print(f\"Text was translated to: '{translated_text.to}' and the result is: '{translated_text.text}'.\")"
   ]
  },
  {
   "cell_type": "code",
   "execution_count": 57,
   "id": "44bfc415",
   "metadata": {},
   "outputs": [
    {
     "data": {
      "text/plain": [
       "'میرا نام محمد عامر ہے۔ میں کمپیوٹر سائنس کا طالب علم ہوں.'"
      ]
     },
     "execution_count": 57,
     "metadata": {},
     "output_type": "execute_result"
    }
   ],
   "source": [
    "my_urdu_text"
   ]
  },
  {
   "cell_type": "markdown",
   "id": "ce8ccd86",
   "metadata": {},
   "source": [
    "# convert urdu Text into voice"
   ]
  },
  {
   "cell_type": "code",
   "execution_count": 43,
   "id": "2042c30d",
   "metadata": {},
   "outputs": [
    {
     "name": "stdout",
     "output_type": "stream",
     "text": [
      "Ready to use speech service in: eastus\n"
     ]
    }
   ],
   "source": [
    "cog_key = os.getenv('COG_SERVICE_KEY')\n",
    "cog_region = os.getenv('COG_SERVICE_REGION')\n",
    "\n",
    "speach_config = speech_sdk.SpeechConfig(cog_key, cog_region)\n",
    "speach_config.speech_synthesis_voice_name = \"ur-PK-AsadNeural\"\n",
    "print('Ready to use speech service in:', speach_config.region)"
   ]
  },
  {
   "cell_type": "code",
   "execution_count": 45,
   "id": "ea6522b5",
   "metadata": {},
   "outputs": [],
   "source": [
    "# Configure speech synthesis\n",
    "speech_synthesizer = speech_sdk.SpeechSynthesizer(speach_config)\n",
    "\n",
    "# Synthesize spoken output\n",
    "speak = speech_synthesizer.speak_text_async(my_urdu_text).get()\n",
    "\n",
    "# Saving Output\n",
    "with open(r'C:\\Users\\GB\\Documents\\Jupyter Notebok\\Task\\azure task\\translation.wav', \"wb\") as audio_file:\n",
    "    audio_file.write(speak.audio_data)"
   ]
  },
  {
   "cell_type": "code",
   "execution_count": null,
   "id": "5b212b26",
   "metadata": {},
   "outputs": [],
   "source": []
  }
 ],
 "metadata": {
  "kernelspec": {
   "display_name": "Python 3 (ipykernel)",
   "language": "python",
   "name": "python3"
  },
  "language_info": {
   "codemirror_mode": {
    "name": "ipython",
    "version": 3
   },
   "file_extension": ".py",
   "mimetype": "text/x-python",
   "name": "python",
   "nbconvert_exporter": "python",
   "pygments_lexer": "ipython3",
   "version": "3.9.13"
  }
 },
 "nbformat": 4,
 "nbformat_minor": 5
}
